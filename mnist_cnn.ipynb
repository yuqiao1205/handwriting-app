{
 "cells": [
  {
   "cell_type": "code",
   "execution_count": 19,
   "id": "initial_id",
   "metadata": {
    "collapsed": true,
    "ExecuteTime": {
     "end_time": "2023-11-28T05:58:18.292963Z",
     "start_time": "2023-11-28T05:58:18.199338Z"
    }
   },
   "outputs": [
    {
     "name": "stdout",
     "output_type": "stream",
     "text": [
      "Shape of X [N, C, H, W]: torch.Size([256, 1, 28, 28])\n",
      "Shape of y: torch.Size([256]) torch.int64\n"
     ]
    }
   ],
   "source": [
    "import torch\n",
    "\n",
    "from torch import nn\n",
    "from torch.utils.data import DataLoader\n",
    "from torchvision import datasets\n",
    "from torchvision import datasets,transforms,utils\n",
    "import matplotlib.pyplot as plt\n",
    "\n",
    "#train_data=datasets.MNIST(root='./MNIST',train=True,download=True,transform=transforms.ToTensor())\n",
    "batch_size=256\n",
    "# convert the image to tensor,rotate image,resize image and normalize it\n",
    "transform = transforms.Compose([ transforms.ToTensor(),\n",
    "                                 transforms.Normalize((0.1307,), (0.3081,))])\n",
    "# Create a random 1/10th size subset of the data\n",
    "# one_tenth = len(train_data) // 10\n",
    "# train_data, _ = torch.utils.data.random_split(train_data, [one_tenth, len(train_data) - one_tenth])\n",
    "\n",
    "\n",
    "# download dataset\n",
    "train_set = datasets.MNIST(root='./MNIST', train=True, download=True, transform=transform)\n",
    "test_set = datasets.MNIST(root='./MNIST', train=False, download=True, transform=transform)\n",
    "\n",
    "# load dataset\n",
    "train_loader=DataLoader(train_set,batch_size=batch_size,shuffle=True)\n",
    "test_loader=DataLoader(test_set,batch_size=batch_size,shuffle=False)\n",
    "\n",
    "for X, y in test_loader:\n",
    "    print(f\"Shape of X [N, C, H, W]: {X.shape}\")\n",
    "    print(f\"Shape of y: {y.shape} {y.dtype}\")\n",
    "    break"
   ]
  },
  {
   "cell_type": "code",
   "execution_count": 2,
   "outputs": [
    {
     "name": "stderr",
     "output_type": "stream",
     "text": [
      "/var/folders/9r/lj24dmsx0cz5p5mb2697_kfr0000gn/T/ipykernel_71475/2565360394.py:4: UserWarning: The figure layout has changed to tight\n",
      "  plt.tight_layout()\n"
     ]
    },
    {
     "data": {
      "text/plain": "<Figure size 640x480 with 12 Axes>",
      "image/png": "[encoded data removed]"
     },
     "metadata": {},
     "output_type": "display_data"
    }
   ],
   "source": [
    "fig=plt.figure()\n",
    "for i in range(12):\n",
    "    plt.subplot(3,4,i+1)\n",
    "    plt.tight_layout()\n",
    "    plt.imshow(train_set.data[i],cmap='gray',interpolation='none')\n",
    "    plt.title(\"Ground Truth: {}\".format(train_set.targets[i]))\n",
    "    plt.xticks([])\n",
    "    plt.yticks([])\n",
    "plt.show()"
   ],
   "metadata": {
    "collapsed": false,
    "ExecuteTime": {
     "end_time": "2023-11-28T04:42:22.492904Z",
     "start_time": "2023-11-28T04:42:21.993612Z"
    }
   },
   "id": "559022960e33d298"
  },
  {
   "cell_type": "code",
   "execution_count": 13,
   "outputs": [
    {
     "name": "stdout",
     "output_type": "stream",
     "text": [
      "MyNet(\n",
      "  (conv): Sequential(\n",
      "    (0): Conv2d(1, 32, kernel_size=(5, 5), stride=(1, 1))\n",
      "    (1): ReLU()\n",
      "    (2): MaxPool2d(kernel_size=2, stride=2, padding=0, dilation=1, ceil_mode=False)\n",
      "    (3): Conv2d(32, 64, kernel_size=(5, 5), stride=(1, 1))\n",
      "    (4): ReLU()\n",
      "    (5): MaxPool2d(kernel_size=2, stride=2, padding=0, dilation=1, ceil_mode=False)\n",
      "  )\n",
      "  (fc): Sequential(\n",
      "    (0): Linear(in_features=1024, out_features=128, bias=True)\n",
      "    (1): ReLU()\n",
      "    (2): Dropout(p=0.5, inplace=False)\n",
      "    (3): Linear(in_features=128, out_features=64, bias=True)\n",
      "    (4): ReLU()\n",
      "    (5): Dropout(p=0.5, inplace=False)\n",
      "    (6): Linear(in_features=64, out_features=10, bias=True)\n",
      "  )\n",
      ")\n"
     ]
    }
   ],
   "source": [
    "class MyNet(nn.Module):\n",
    "    def __init__(self):\n",
    "        super(MyNet, self).__init__()\n",
    "        self.conv = nn.Sequential(\n",
    "            nn.Conv2d(1, 32, 5), # in_channels, out_channels, kernel_size\n",
    "            nn.ReLU(),\n",
    "            nn.MaxPool2d(2, 2), # kernel_size, stride\n",
    "            nn.Conv2d(32, 64, 5),\n",
    "            nn.ReLU(),\n",
    "            nn.MaxPool2d(2, 2)\n",
    "        )\n",
    "\n",
    "        self.fc = nn.Sequential(\n",
    "            nn.Linear(64*4*4, 128),\n",
    "            nn.ReLU(),\n",
    "            nn.Dropout(0.5),\n",
    "            nn.Linear(128, 64),\n",
    "            nn.ReLU(),\n",
    "            nn.Dropout(0.5),\n",
    "            nn.Linear(64, 10)\n",
    "        )\n",
    "    def forward(self, img):\n",
    "        feature = self.conv(img)\n",
    "        output = self.fc(feature.view(img.shape[0], -1))\n",
    "        return output\n",
    "model = MyNet()\n",
    "print(model)\n",
    "\n",
    "\n",
    "\n",
    "loss_fn = nn.CrossEntropyLoss()\n",
    "optimizer = torch.optim.Adam(model.parameters())"
   ],
   "metadata": {
    "collapsed": false,
    "ExecuteTime": {
     "end_time": "2023-11-28T05:00:59.729571Z",
     "start_time": "2023-11-28T05:00:59.717462Z"
    }
   },
   "id": "8ba0550dae5e6be4"
  },
  {
   "cell_type": "code",
   "execution_count": 4,
   "outputs": [],
   "source": [
    "# # Load the pre-trained weights\n",
    "# model.load_state_dict(torch.load('/MNIST/best_letnet.pth'))\n",
    "# model.eval()  # Set the model in evaluation mode"
   ],
   "metadata": {
    "collapsed": false,
    "ExecuteTime": {
     "end_time": "2023-11-28T04:42:24.998986Z",
     "start_time": "2023-11-28T04:42:24.992185Z"
    }
   },
   "id": "e2b1a52925e8cd12"
  },
  {
   "cell_type": "code",
   "execution_count": 17,
   "outputs": [],
   "source": [
    "loss_fn = nn.CrossEntropyLoss()\n",
    "optimizer = torch.optim.Adam(model.parameters(), lr=0.001)\n",
    "\n"
   ],
   "metadata": {
    "collapsed": false,
    "ExecuteTime": {
     "end_time": "2023-11-28T05:11:23.908269Z",
     "start_time": "2023-11-28T05:11:23.899090Z"
    }
   },
   "id": "1986036e14628ad0"
  },
  {
   "cell_type": "code",
   "execution_count": 18,
   "outputs": [
    {
     "name": "stdout",
     "output_type": "stream",
     "text": [
      "Epoch 1\n",
      "-------------------------------\n",
      "train loss:0.023 train accuracy:98.83%\n",
      "train loss:0.092 train accuracy:98.68%\n",
      "train loss:0.023 train accuracy:98.90%\n",
      "train loss:0.015 train accuracy:98.88%\n",
      "train loss:0.046 train accuracy:98.91%\n",
      "train loss:0.009 train accuracy:98.94%\n",
      "train loss:0.017 train accuracy:98.92%\n",
      "train loss:0.034 train accuracy:98.91%\n",
      "train loss:0.038 train accuracy:98.91%\n",
      "train loss:0.029 train accuracy:98.93%\n",
      "train loss:0.037 train accuracy:98.92%\n",
      "test loss:0.000,test accuracy:99.20%\n",
      "best model accuracy:  99.2 previous best accuracy:  0.0\n",
      "Save best model\n",
      "Epoch 2\n",
      "-------------------------------\n",
      "train loss:0.030 train accuracy:98.83%\n",
      "train loss:0.027 train accuracy:99.14%\n",
      "train loss:0.044 train accuracy:98.96%\n",
      "train loss:0.023 train accuracy:98.91%\n",
      "train loss:0.061 train accuracy:98.89%\n",
      "train loss:0.016 train accuracy:98.94%\n",
      "train loss:0.122 train accuracy:98.94%\n",
      "train loss:0.084 train accuracy:98.93%\n",
      "train loss:0.054 train accuracy:98.96%\n",
      "train loss:0.012 train accuracy:98.99%\n",
      "train loss:0.014 train accuracy:98.99%\n",
      "test loss:0.000,test accuracy:99.36%\n",
      "best model accuracy:  99.36 previous best accuracy:  99.2\n",
      "Save best model\n",
      "Epoch 3\n",
      "-------------------------------\n",
      "train loss:0.018 train accuracy:99.61%\n",
      "train loss:0.033 train accuracy:98.76%\n",
      "train loss:0.041 train accuracy:98.81%\n",
      "train loss:0.020 train accuracy:98.95%\n",
      "train loss:0.067 train accuracy:98.96%\n",
      "train loss:0.019 train accuracy:98.99%\n",
      "train loss:0.020 train accuracy:99.00%\n",
      "train loss:0.026 train accuracy:99.01%\n",
      "train loss:0.037 train accuracy:99.01%\n",
      "train loss:0.068 train accuracy:98.98%\n",
      "train loss:0.020 train accuracy:98.98%\n",
      "test loss:0.000,test accuracy:99.22%\n",
      "Epoch 4\n",
      "-------------------------------\n",
      "train loss:0.023 train accuracy:99.61%\n",
      "train loss:0.039 train accuracy:99.25%\n",
      "train loss:0.035 train accuracy:99.16%\n",
      "train loss:0.011 train accuracy:99.17%\n",
      "train loss:0.135 train accuracy:99.21%\n",
      "train loss:0.013 train accuracy:99.18%\n",
      "train loss:0.025 train accuracy:99.17%\n",
      "train loss:0.045 train accuracy:99.15%\n",
      "train loss:0.031 train accuracy:99.13%\n",
      "train loss:0.036 train accuracy:99.14%\n",
      "train loss:0.021 train accuracy:99.14%\n",
      "test loss:0.000,test accuracy:99.29%\n",
      "Epoch 5\n",
      "-------------------------------\n",
      "train loss:0.020 train accuracy:99.61%\n",
      "train loss:0.012 train accuracy:99.32%\n",
      "train loss:0.031 train accuracy:99.32%\n",
      "train loss:0.018 train accuracy:99.14%\n",
      "train loss:0.036 train accuracy:99.10%\n",
      "train loss:0.059 train accuracy:99.05%\n",
      "train loss:0.016 train accuracy:99.07%\n",
      "train loss:0.023 train accuracy:99.11%\n",
      "train loss:0.036 train accuracy:99.11%\n",
      "train loss:0.024 train accuracy:99.15%\n",
      "train loss:0.037 train accuracy:99.15%\n",
      "test loss:0.000,test accuracy:99.42%\n",
      "best model accuracy:  99.42 previous best accuracy:  99.36\n",
      "Save best model\n",
      "Epoch 6\n",
      "-------------------------------\n",
      "train loss:0.013 train accuracy:99.61%\n",
      "train loss:0.020 train accuracy:99.38%\n",
      "train loss:0.022 train accuracy:99.41%\n",
      "train loss:0.027 train accuracy:99.32%\n",
      "train loss:0.026 train accuracy:99.34%\n",
      "train loss:0.041 train accuracy:99.32%\n",
      "train loss:0.049 train accuracy:99.27%\n",
      "train loss:0.034 train accuracy:99.29%\n",
      "train loss:0.038 train accuracy:99.27%\n",
      "train loss:0.009 train accuracy:99.28%\n",
      "train loss:0.006 train accuracy:99.28%\n",
      "test loss:0.000,test accuracy:99.25%\n",
      "Epoch 7\n",
      "-------------------------------\n",
      "train loss:0.019 train accuracy:99.22%\n",
      "train loss:0.012 train accuracy:99.01%\n",
      "train loss:0.052 train accuracy:99.09%\n",
      "train loss:0.030 train accuracy:99.19%\n",
      "train loss:0.029 train accuracy:99.26%\n",
      "train loss:0.051 train accuracy:99.25%\n",
      "train loss:0.029 train accuracy:99.23%\n",
      "train loss:0.059 train accuracy:99.20%\n",
      "train loss:0.040 train accuracy:99.18%\n",
      "train loss:0.019 train accuracy:99.20%\n",
      "train loss:0.057 train accuracy:99.21%\n",
      "test loss:0.000,test accuracy:99.41%\n",
      "Epoch 8\n",
      "-------------------------------\n",
      "train loss:0.005 train accuracy:100.00%\n",
      "train loss:0.031 train accuracy:99.35%\n",
      "train loss:0.010 train accuracy:99.41%\n",
      "train loss:0.035 train accuracy:99.44%\n",
      "train loss:0.011 train accuracy:99.40%\n",
      "train loss:0.014 train accuracy:99.36%\n",
      "train loss:0.039 train accuracy:99.33%\n",
      "train loss:0.025 train accuracy:99.35%\n",
      "train loss:0.020 train accuracy:99.36%\n",
      "train loss:0.016 train accuracy:99.34%\n",
      "train loss:0.023 train accuracy:99.34%\n",
      "test loss:0.000,test accuracy:99.33%\n",
      "Epoch 9\n",
      "-------------------------------\n",
      "train loss:0.011 train accuracy:99.22%\n",
      "train loss:0.014 train accuracy:99.37%\n",
      "train loss:0.016 train accuracy:99.38%\n",
      "train loss:0.021 train accuracy:99.35%\n",
      "train loss:0.017 train accuracy:99.34%\n",
      "train loss:0.029 train accuracy:99.30%\n",
      "train loss:0.020 train accuracy:99.33%\n",
      "train loss:0.039 train accuracy:99.33%\n",
      "train loss:0.051 train accuracy:99.31%\n",
      "train loss:0.033 train accuracy:99.31%\n",
      "train loss:0.011 train accuracy:99.32%\n",
      "test loss:0.000,test accuracy:99.34%\n",
      "Epoch 10\n",
      "-------------------------------\n",
      "train loss:0.017 train accuracy:99.61%\n",
      "train loss:0.014 train accuracy:99.53%\n",
      "train loss:0.002 train accuracy:99.44%\n",
      "train loss:0.025 train accuracy:99.44%\n",
      "train loss:0.011 train accuracy:99.42%\n",
      "train loss:0.019 train accuracy:99.41%\n",
      "train loss:0.014 train accuracy:99.38%\n",
      "train loss:0.068 train accuracy:99.36%\n",
      "train loss:0.008 train accuracy:99.38%\n",
      "train loss:0.013 train accuracy:99.38%\n",
      "train loss:0.017 train accuracy:99.38%\n",
      "test loss:0.000,test accuracy:99.44%\n",
      "best model accuracy:  99.44 previous best accuracy:  99.42\n",
      "Save best model\n",
      "Done!\n"
     ]
    }
   ],
   "source": [
    "\n",
    "# Training CNN\n",
    "def train(dataloader, model, loss_fn, optimizer):\n",
    "    model.train()\n",
    "    total = 0\n",
    "    correct = 0.0\n",
    "    epoch_loss = 0.0\n",
    "\n",
    "    for batch, (X, y) in enumerate(dataloader):\n",
    "        # Compute prediction error\n",
    "        pred = model(X)\n",
    "        loss = loss_fn(pred, y)\n",
    "        epoch_loss += loss.item()\n",
    "        predicted=pred.argmax(dim=1)\n",
    "        total += y.size(0)\n",
    "        correct += (predicted==y).sum().item()\n",
    "\n",
    "        # Backpropagation\n",
    "        optimizer.zero_grad()\n",
    "        loss.backward()\n",
    "        optimizer.step()\n",
    "\n",
    "        L = len(dataloader)\n",
    "        K = L // 10\n",
    "        if batch % K == 0:\n",
    "            accuracy = 100 * correct / total\n",
    "            print(f\"train loss:{loss.item():.3f}\", end=\" \")\n",
    "            print(f\"train accuracy:{accuracy:.2f}%\")\n",
    "    epoch_loss /= len(dataloader)\n",
    "    return epoch_loss, accuracy\n",
    "\n",
    "\n",
    "def test(testloader,model,loss_fn):\n",
    "    model.eval()\n",
    "    test_loss=0\n",
    "    correct=0\n",
    "    total=0\n",
    "    with torch.no_grad():\n",
    "        for X,y in testloader:\n",
    "            pred=model(X)\n",
    "            test_loss+=loss_fn(pred,y).item()\n",
    "            predicted=pred.argmax(dim=1)\n",
    "            total+=y.size(0)\n",
    "            correct+=(predicted==y).sum().item()\n",
    "        print(\"test loss:{:.3f},test accuracy:{:.2f}%\".format(test_loss/total,100*correct/total))\n",
    "\n",
    "    test_loss /= len(testloader)\n",
    "    accuracy = 100 * correct / total\n",
    "    return test_loss, accuracy\n",
    "\n",
    "\n",
    "\n",
    "epochs = 10\n",
    "max_accuracy = 0.0\n",
    "# min_loss = float('inf')\n",
    "lines = {\n",
    "    \"train_loss\": [],\n",
    "    \"train_acc\": [],\n",
    "    \"test_loss\": [],\n",
    "    \"test_acc\": []\n",
    "}\n",
    "for t in range(epochs):\n",
    "    print(f\"Epoch {t+1}\\n-------------------------------\")\n",
    "    train_loss, train_acc = train(train_loader, model, loss_fn, optimizer)\n",
    "    test_loss, test_acc = test(test_loader, model, loss_fn)\n",
    "\n",
    "    if test_acc > max_accuracy:\n",
    "        print(\"best model accuracy: \", test_acc, \"previous best accuracy: \", max_accuracy)\n",
    "        print(\"Save best model\")\n",
    "        max_accuracy = test_acc\n",
    "\n",
    "        torch.save(model.state_dict(), 'best_lenet.pth')\n",
    "        lines[\"train_loss\"].append(train_loss)\n",
    "        lines[\"train_acc\"].append(train_acc)\n",
    "        lines[\"test_loss\"].append(test_loss)\n",
    "        lines[\"test_acc\"].append(test_acc)\n",
    "\n",
    "print(\"Done!\")\n"
   ],
   "metadata": {
    "collapsed": false,
    "ExecuteTime": {
     "end_time": "2023-11-28T05:14:46.718507Z",
     "start_time": "2023-11-28T05:11:24.677459Z"
    }
   },
   "id": "88a5e8ee7472a029"
  },
  {
   "cell_type": "code",
   "execution_count": null,
   "outputs": [],
   "source": [],
   "metadata": {
    "collapsed": false
   },
   "id": "f851030dec32a5b5"
  },
  {
   "cell_type": "code",
   "execution_count": null,
   "outputs": [],
   "source": [
    "# check classification\n",
    "example = enumerate(test_loader)\n",
    "batch_idx, (example_data, example_targets) = next(example)\n",
    "with torch.no_grad():\n",
    "    output = model(example_data)\n",
    "fig1=plt.figure()\n",
    "for i in range(6):\n",
    "    plt.subplot(2,3,i+1)\n",
    "    plt.tight_layout()\n",
    "    plt.imshow(example_data[i][0],cmap='gray',interpolation='none')\n",
    "    plt.title(\"Prediction: {}\".format(\n",
    "        output.data.max(1, keepdim=True)[1][i].item()))\n",
    "    plt.xticks([])\n",
    "    plt.yticks([])\n",
    "plt.show()"
   ],
   "metadata": {
    "collapsed": false
   },
   "id": "85771d19262f7720"
  },
  {
   "cell_type": "code",
   "execution_count": null,
   "outputs": [],
   "source": [
    "class_correct = list(0. for i in range(10))\n",
    "class_total = list(0. for i in range(10))\n",
    "with torch.no_grad():\n",
    "    for data in test_loader:\n",
    "        images, labels = data\n",
    "        outputs = model(images)\n",
    "        _, predicted = torch.max(outputs, 1)\n",
    "        c = (predicted == labels)\n",
    "#         print(predicted == labels)\n",
    "        for i in range(10):\n",
    "            label = labels[i]\n",
    "            class_correct[label] += c[i].item()\n",
    "            class_total[label] += 1\n",
    "\n",
    "\n",
    "for i in range(10):\n",
    "    print('Accuracy of number %d : %2d %%' % (\n",
    "        i, 100 * class_correct[i] / class_total[i]))"
   ],
   "metadata": {
    "collapsed": false
   },
   "id": "4a9134f278f83e55"
  },
  {
   "cell_type": "code",
   "execution_count": 23,
   "outputs": [
    {
     "name": "stdout",
     "output_type": "stream",
     "text": [
      "[[ 978    0    0    0    0    0    0    0    1    1]\n",
      " [   0 1132    0    2    0    1    0    0    0    0]\n",
      " [   0    1 1030    0    0    0    0    1    0    0]\n",
      " [   0    0    1 1009    0    0    0    0    0    0]\n",
      " [   0    0    0    0  974    0    2    1    0    5]\n",
      " [   0    0    0    6    0  884    1    0    0    1]\n",
      " [   3    2    0    0    1    0  951    0    1    0]\n",
      " [   0    2    3    1    0    0    0 1020    0    2]\n",
      " [   1    0    2    1    1    0    0    1  965    3]\n",
      " [   0    0    0    0    3    2    0    2    1 1001]]\n"
     ]
    }
   ],
   "source": [
    "# confusion matrix use sklearn and matplotlib\n",
    "import numpy as np\n",
    "from sklearn.metrics import confusion_matrix\n",
    "import matplotlib.pyplot as plt\n",
    "import torch\n",
    "\n",
    "y_true = []\n",
    "y_pred = []\n",
    "with torch.no_grad():\n",
    "    for data in test_loader:\n",
    "        images, labels = data\n",
    "        outputs = model(images)\n",
    "        _, predicted = torch.max(outputs, 1)\n",
    "        y_true += labels.tolist()\n",
    "        y_pred += predicted.tolist()\n",
    "\n",
    "confusion_mat = confusion_matrix(y_true, y_pred)\n",
    "print(confusion_mat)"
   ],
   "metadata": {
    "collapsed": false,
    "ExecuteTime": {
     "end_time": "2023-12-03T02:39:38.091639Z",
     "start_time": "2023-12-03T02:39:36.855216Z"
    }
   },
   "id": "34d5f2fbd939a15c"
  },
  {
   "cell_type": "code",
   "execution_count": 22,
   "outputs": [
    {
     "data": {
      "text/plain": "<Figure size 640x480 with 2 Axes>",
      "image/png": "[encoded data removed]"
     },
     "metadata": {},
     "output_type": "display_data"
    }
   ],
   "source": [
    "import itertools\n",
    "\n",
    "def plot_confusion_matrix(cm, title='Confusion matrix', cmap=plt.cm.Blues):\n",
    "    plt.imshow(cm, interpolation='nearest', cmap=cmap)\n",
    "    plt.title(title)\n",
    "    plt.colorbar()\n",
    "    tick_marks = np.arange(10)\n",
    "    plt.xticks(tick_marks, rotation=45)\n",
    "    ax = plt.gca()\n",
    "    ax.set_xticklabels((ax.get_xticks()).astype(str))\n",
    "    plt.yticks(tick_marks)\n",
    "\n",
    "    thresh = cm.max() / 2.\n",
    "    for i, j in itertools.product(range(cm.shape[0]), range(cm.shape[1])):\n",
    "        plt.text(j, i, cm[i, j],\n",
    "                 horizontalalignment=\"center\",\n",
    "                 color=\"white\" if cm[i, j] > thresh else \"black\")\n",
    "\n",
    "    plt.tight_layout()\n",
    "    plt.ylabel('Predicted label')\n",
    "    plt.xlabel('True label')\n",
    "\n",
    "plot_confusion_matrix(confusion_mat)"
   ],
   "metadata": {
    "collapsed": false,
    "ExecuteTime": {
     "end_time": "2023-12-03T02:36:28.838573Z",
     "start_time": "2023-12-03T02:36:28.495555Z"
    }
   },
   "id": "1454fcbbac2f3f74"
  },
  {
   "cell_type": "code",
   "execution_count": null,
   "outputs": [],
   "source": [
    "# row is true label, column is predicted label\n",
    "# e.g. 0 is classified as 0 977 times out of 980\n",
    "# diagonal shows that most digits are classified correctly\n",
    "# off diagonal numbers show misclassified digits\n",
    "# e.g. 4 and 9 are often misclassified as each other"
   ],
   "metadata": {
    "collapsed": false
   },
   "id": "160df4194c97a417"
  },
  {
   "cell_type": "code",
   "execution_count": null,
   "outputs": [],
   "source": [],
   "metadata": {
    "collapsed": false
   },
   "id": "ed23a8e3d99db2c9"
  }
 ],
 "metadata": {
  "kernelspec": {
   "display_name": "Python 3",
   "language": "python",
   "name": "python3"
  },
  "language_info": {
   "codemirror_mode": {
    "name": "ipython",
    "version": 2
   },
   "file_extension": ".py",
   "mimetype": "text/x-python",
   "name": "python",
   "nbconvert_exporter": "python",
   "pygments_lexer": "ipython2",
   "version": "2.7.6"
  }
 },
 "nbformat": 4,
 "nbformat_minor": 5
}
